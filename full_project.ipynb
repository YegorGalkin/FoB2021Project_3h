{
 "cells": [
  {
   "cell_type": "code",
   "execution_count": 1,
   "outputs": [
    {
     "name": "stdout",
     "output_type": "stream",
     "text": [
      "Requirement already satisfied: pandas in c:\\programdata\\anaconda3\\envs\\fob2021project_3h\\lib\\site-packages (1.3.3)\n",
      "Requirement already satisfied: numpy>=1.17.3 in c:\\programdata\\anaconda3\\envs\\fob2021project_3h\\lib\\site-packages (from pandas) (1.21.2)\n",
      "Requirement already satisfied: pytz>=2017.3 in c:\\programdata\\anaconda3\\envs\\fob2021project_3h\\lib\\site-packages (from pandas) (2021.1)\n",
      "Requirement already satisfied: python-dateutil>=2.7.3 in c:\\programdata\\anaconda3\\envs\\fob2021project_3h\\lib\\site-packages (from pandas) (2.8.2)\n",
      "Requirement already satisfied: six>=1.5 in c:\\programdata\\anaconda3\\envs\\fob2021project_3h\\lib\\site-packages (from python-dateutil>=2.7.3->pandas) (1.16.0)\n",
      "Requirement already satisfied: sklearn in c:\\programdata\\anaconda3\\envs\\fob2021project_3h\\lib\\site-packages (0.0)\n",
      "Requirement already satisfied: scikit-learn in c:\\programdata\\anaconda3\\envs\\fob2021project_3h\\lib\\site-packages (from sklearn) (0.24.2)\n",
      "Requirement already satisfied: scipy>=0.19.1 in c:\\programdata\\anaconda3\\envs\\fob2021project_3h\\lib\\site-packages (from scikit-learn->sklearn) (1.7.1)\n",
      "Requirement already satisfied: threadpoolctl>=2.0.0 in c:\\programdata\\anaconda3\\envs\\fob2021project_3h\\lib\\site-packages (from scikit-learn->sklearn) (2.2.0)\n",
      "Requirement already satisfied: numpy>=1.13.3 in c:\\programdata\\anaconda3\\envs\\fob2021project_3h\\lib\\site-packages (from scikit-learn->sklearn) (1.21.2)\n",
      "Requirement already satisfied: joblib>=0.11 in c:\\programdata\\anaconda3\\envs\\fob2021project_3h\\lib\\site-packages (from scikit-learn->sklearn) (1.0.1)\n"
     ]
    }
   ],
   "source": [
    "!pip install pandas\n",
    "!pip install sklearn"
   ],
   "metadata": {
    "collapsed": false,
    "pycharm": {
     "name": "#%%\n"
    }
   }
  },
  {
   "cell_type": "code",
   "execution_count": 2,
   "outputs": [],
   "source": [
    "import pandas as pd\n",
    "import matplotlib.pyplot as plt\n",
    "import sklearn.metrics as metrics\n",
    "import os"
   ],
   "metadata": {
    "collapsed": false,
    "pycharm": {
     "name": "#%%\n"
    }
   }
  },
  {
   "cell_type": "code",
   "execution_count": 3,
   "outputs": [],
   "source": [
    "work_dir = r'E:\\FoB\\FoB2021Project_3h'\n",
    "blosum_path = os.path.join(work_dir, 'data', 'BLOSUM62.txt')\n",
    "vep_path = os.path.join(work_dir, 'data', 'vep', 'HGVS_2020_big_VEP_baseline.tsv')"
   ],
   "metadata": {
    "collapsed": false,
    "pycharm": {
     "name": "#%%\n"
    }
   }
  },
  {
   "cell_type": "code",
   "execution_count": 4,
   "outputs": [
    {
     "name": "stderr",
     "output_type": "stream",
     "text": [
      "C:\\ProgramData\\Anaconda3\\envs\\FoB2021Project_3h\\lib\\site-packages\\pandas\\util\\_decorators.py:311: ParserWarning: Falling back to the 'python' engine because the 'c' engine does not support regex separators (separators > 1 char and different from '\\s+' are interpreted as regex); you can avoid this warning by specifying engine='python'.\n",
      "  return func(*args, **kwargs)\n"
     ]
    },
    {
     "data": {
      "text/plain": "   A  R  N  D  C  Q  E  G  H  I  L  K  M  F  P  S  T  W  Y  V\nx                                                            \nA  4 -1 -2 -2  0 -1 -1  0 -2 -1 -1 -1 -1 -2 -1  1  0 -3 -2  0\nR -1  5  0 -2 -3  1  0 -2  0 -3 -2  2 -1 -3 -2 -1 -1 -3 -2 -3\nN -2  0  6  1 -3  0  0  0  1 -3 -3  0 -2 -3 -2  1  0 -4 -2 -3\nD -2 -2  1  6 -3  0  2 -1 -1 -3 -4 -1 -3 -3 -1  0 -1 -4 -3 -3\nC  0 -3 -3 -3  9 -3 -4 -3 -3 -1 -1 -3 -1 -2 -3 -1 -1 -2 -2 -1",
      "text/html": "<div>\n<style scoped>\n    .dataframe tbody tr th:only-of-type {\n        vertical-align: middle;\n    }\n\n    .dataframe tbody tr th {\n        vertical-align: top;\n    }\n\n    .dataframe thead th {\n        text-align: right;\n    }\n</style>\n<table border=\"1\" class=\"dataframe\">\n  <thead>\n    <tr style=\"text-align: right;\">\n      <th></th>\n      <th>A</th>\n      <th>R</th>\n      <th>N</th>\n      <th>D</th>\n      <th>C</th>\n      <th>Q</th>\n      <th>E</th>\n      <th>G</th>\n      <th>H</th>\n      <th>I</th>\n      <th>L</th>\n      <th>K</th>\n      <th>M</th>\n      <th>F</th>\n      <th>P</th>\n      <th>S</th>\n      <th>T</th>\n      <th>W</th>\n      <th>Y</th>\n      <th>V</th>\n    </tr>\n    <tr>\n      <th>x</th>\n      <th></th>\n      <th></th>\n      <th></th>\n      <th></th>\n      <th></th>\n      <th></th>\n      <th></th>\n      <th></th>\n      <th></th>\n      <th></th>\n      <th></th>\n      <th></th>\n      <th></th>\n      <th></th>\n      <th></th>\n      <th></th>\n      <th></th>\n      <th></th>\n      <th></th>\n      <th></th>\n    </tr>\n  </thead>\n  <tbody>\n    <tr>\n      <th>A</th>\n      <td>4</td>\n      <td>-1</td>\n      <td>-2</td>\n      <td>-2</td>\n      <td>0</td>\n      <td>-1</td>\n      <td>-1</td>\n      <td>0</td>\n      <td>-2</td>\n      <td>-1</td>\n      <td>-1</td>\n      <td>-1</td>\n      <td>-1</td>\n      <td>-2</td>\n      <td>-1</td>\n      <td>1</td>\n      <td>0</td>\n      <td>-3</td>\n      <td>-2</td>\n      <td>0</td>\n    </tr>\n    <tr>\n      <th>R</th>\n      <td>-1</td>\n      <td>5</td>\n      <td>0</td>\n      <td>-2</td>\n      <td>-3</td>\n      <td>1</td>\n      <td>0</td>\n      <td>-2</td>\n      <td>0</td>\n      <td>-3</td>\n      <td>-2</td>\n      <td>2</td>\n      <td>-1</td>\n      <td>-3</td>\n      <td>-2</td>\n      <td>-1</td>\n      <td>-1</td>\n      <td>-3</td>\n      <td>-2</td>\n      <td>-3</td>\n    </tr>\n    <tr>\n      <th>N</th>\n      <td>-2</td>\n      <td>0</td>\n      <td>6</td>\n      <td>1</td>\n      <td>-3</td>\n      <td>0</td>\n      <td>0</td>\n      <td>0</td>\n      <td>1</td>\n      <td>-3</td>\n      <td>-3</td>\n      <td>0</td>\n      <td>-2</td>\n      <td>-3</td>\n      <td>-2</td>\n      <td>1</td>\n      <td>0</td>\n      <td>-4</td>\n      <td>-2</td>\n      <td>-3</td>\n    </tr>\n    <tr>\n      <th>D</th>\n      <td>-2</td>\n      <td>-2</td>\n      <td>1</td>\n      <td>6</td>\n      <td>-3</td>\n      <td>0</td>\n      <td>2</td>\n      <td>-1</td>\n      <td>-1</td>\n      <td>-3</td>\n      <td>-4</td>\n      <td>-1</td>\n      <td>-3</td>\n      <td>-3</td>\n      <td>-1</td>\n      <td>0</td>\n      <td>-1</td>\n      <td>-4</td>\n      <td>-3</td>\n      <td>-3</td>\n    </tr>\n    <tr>\n      <th>C</th>\n      <td>0</td>\n      <td>-3</td>\n      <td>-3</td>\n      <td>-3</td>\n      <td>9</td>\n      <td>-3</td>\n      <td>-4</td>\n      <td>-3</td>\n      <td>-3</td>\n      <td>-1</td>\n      <td>-1</td>\n      <td>-3</td>\n      <td>-1</td>\n      <td>-2</td>\n      <td>-3</td>\n      <td>-1</td>\n      <td>-1</td>\n      <td>-2</td>\n      <td>-2</td>\n      <td>-1</td>\n    </tr>\n  </tbody>\n</table>\n</div>"
     },
     "execution_count": 4,
     "metadata": {},
     "output_type": "execute_result"
    }
   ],
   "source": [
    "blosum = pd.read_csv(blosum_path, sep='\\ +', comment='#', index_col=0)\n",
    "blosum.head()"
   ],
   "metadata": {
    "collapsed": false,
    "pycharm": {
     "name": "#%%\n"
    }
   }
  },
  {
   "cell_type": "code",
   "execution_count": 5,
   "outputs": [
    {
     "data": {
      "text/plain": "                         # ID Amino_acids   Codons\n0  NC_000005.10:g.43702652T>G         N/K  aaT/aaG\n1  NC_000008.11:g.24394146T>C         M/T  aTg/aCg\n2   NC_000014.9:g.35007370A>G         T/A  Aca/Gca\n3  NC_000023.11:g.48523912G>T         W/C  tgG/tgT\n4  NC_000007.14:g.92086295A>G         Q/R  cAa/cGa",
      "text/html": "<div>\n<style scoped>\n    .dataframe tbody tr th:only-of-type {\n        vertical-align: middle;\n    }\n\n    .dataframe tbody tr th {\n        vertical-align: top;\n    }\n\n    .dataframe thead th {\n        text-align: right;\n    }\n</style>\n<table border=\"1\" class=\"dataframe\">\n  <thead>\n    <tr style=\"text-align: right;\">\n      <th></th>\n      <th># ID</th>\n      <th>Amino_acids</th>\n      <th>Codons</th>\n    </tr>\n  </thead>\n  <tbody>\n    <tr>\n      <th>0</th>\n      <td>NC_000005.10:g.43702652T&gt;G</td>\n      <td>N/K</td>\n      <td>aaT/aaG</td>\n    </tr>\n    <tr>\n      <th>1</th>\n      <td>NC_000008.11:g.24394146T&gt;C</td>\n      <td>M/T</td>\n      <td>aTg/aCg</td>\n    </tr>\n    <tr>\n      <th>2</th>\n      <td>NC_000014.9:g.35007370A&gt;G</td>\n      <td>T/A</td>\n      <td>Aca/Gca</td>\n    </tr>\n    <tr>\n      <th>3</th>\n      <td>NC_000023.11:g.48523912G&gt;T</td>\n      <td>W/C</td>\n      <td>tgG/tgT</td>\n    </tr>\n    <tr>\n      <th>4</th>\n      <td>NC_000007.14:g.92086295A&gt;G</td>\n      <td>Q/R</td>\n      <td>cAa/cGa</td>\n    </tr>\n  </tbody>\n</table>\n</div>"
     },
     "execution_count": 5,
     "metadata": {},
     "output_type": "execute_result"
    }
   ],
   "source": [
    "vep = pd.read_csv(vep_path,sep='\\t')\n",
    "vep.head()"
   ],
   "metadata": {
    "collapsed": false,
    "pycharm": {
     "name": "#%%\n"
    }
   }
  },
  {
   "cell_type": "code",
   "execution_count": 6,
   "outputs": [
    {
     "data": {
      "text/plain": "                         # ID ref_aa mut_aa\n0  NC_000005.10:g.43702652T>G      N      K\n1  NC_000008.11:g.24394146T>C      M      T\n2   NC_000014.9:g.35007370A>G      T      A\n3  NC_000023.11:g.48523912G>T      W      C\n4  NC_000007.14:g.92086295A>G      Q      R",
      "text/html": "<div>\n<style scoped>\n    .dataframe tbody tr th:only-of-type {\n        vertical-align: middle;\n    }\n\n    .dataframe tbody tr th {\n        vertical-align: top;\n    }\n\n    .dataframe thead th {\n        text-align: right;\n    }\n</style>\n<table border=\"1\" class=\"dataframe\">\n  <thead>\n    <tr style=\"text-align: right;\">\n      <th></th>\n      <th># ID</th>\n      <th>ref_aa</th>\n      <th>mut_aa</th>\n    </tr>\n  </thead>\n  <tbody>\n    <tr>\n      <th>0</th>\n      <td>NC_000005.10:g.43702652T&gt;G</td>\n      <td>N</td>\n      <td>K</td>\n    </tr>\n    <tr>\n      <th>1</th>\n      <td>NC_000008.11:g.24394146T&gt;C</td>\n      <td>M</td>\n      <td>T</td>\n    </tr>\n    <tr>\n      <th>2</th>\n      <td>NC_000014.9:g.35007370A&gt;G</td>\n      <td>T</td>\n      <td>A</td>\n    </tr>\n    <tr>\n      <th>3</th>\n      <td>NC_000023.11:g.48523912G&gt;T</td>\n      <td>W</td>\n      <td>C</td>\n    </tr>\n    <tr>\n      <th>4</th>\n      <td>NC_000007.14:g.92086295A&gt;G</td>\n      <td>Q</td>\n      <td>R</td>\n    </tr>\n  </tbody>\n</table>\n</div>"
     },
     "execution_count": 6,
     "metadata": {},
     "output_type": "execute_result"
    }
   ],
   "source": [
    "vep['ref_aa'] = vep['Amino_acids'].str.split('/').map(lambda x: x[0])\n",
    "vep['mut_aa'] = vep['Amino_acids'].str.split('/').map(lambda x: x[1])\n",
    "vep=vep[['# ID','ref_aa','mut_aa']]\n",
    "vep.head()"
   ],
   "metadata": {
    "collapsed": false,
    "pycharm": {
     "name": "#%%\n"
    }
   }
  },
  {
   "cell_type": "code",
   "execution_count": 7,
   "outputs": [
    {
     "data": {
      "text/plain": "                         # ID ref_aa mut_aa  Score\n0  NC_000005.10:g.43702652T>G      N      K      0\n1  NC_000008.11:g.24394146T>C      M      T     -1\n2   NC_000014.9:g.35007370A>G      T      A      0\n3  NC_000023.11:g.48523912G>T      W      C     -2\n4  NC_000007.14:g.92086295A>G      Q      R      1",
      "text/html": "<div>\n<style scoped>\n    .dataframe tbody tr th:only-of-type {\n        vertical-align: middle;\n    }\n\n    .dataframe tbody tr th {\n        vertical-align: top;\n    }\n\n    .dataframe thead th {\n        text-align: right;\n    }\n</style>\n<table border=\"1\" class=\"dataframe\">\n  <thead>\n    <tr style=\"text-align: right;\">\n      <th></th>\n      <th># ID</th>\n      <th>ref_aa</th>\n      <th>mut_aa</th>\n      <th>Score</th>\n    </tr>\n  </thead>\n  <tbody>\n    <tr>\n      <th>0</th>\n      <td>NC_000005.10:g.43702652T&gt;G</td>\n      <td>N</td>\n      <td>K</td>\n      <td>0</td>\n    </tr>\n    <tr>\n      <th>1</th>\n      <td>NC_000008.11:g.24394146T&gt;C</td>\n      <td>M</td>\n      <td>T</td>\n      <td>-1</td>\n    </tr>\n    <tr>\n      <th>2</th>\n      <td>NC_000014.9:g.35007370A&gt;G</td>\n      <td>T</td>\n      <td>A</td>\n      <td>0</td>\n    </tr>\n    <tr>\n      <th>3</th>\n      <td>NC_000023.11:g.48523912G&gt;T</td>\n      <td>W</td>\n      <td>C</td>\n      <td>-2</td>\n    </tr>\n    <tr>\n      <th>4</th>\n      <td>NC_000007.14:g.92086295A&gt;G</td>\n      <td>Q</td>\n      <td>R</td>\n      <td>1</td>\n    </tr>\n  </tbody>\n</table>\n</div>"
     },
     "execution_count": 7,
     "metadata": {},
     "output_type": "execute_result"
    }
   ],
   "source": [
    "baseline = vep.copy()\n",
    "baseline['Score'] = vep.apply(lambda row: blosum.loc[row['ref_aa'],row['mut_aa']],axis=1)\n",
    "baseline.head()"
   ],
   "metadata": {
    "collapsed": false,
    "pycharm": {
     "name": "#%%\n"
    }
   }
  },
  {
   "cell_type": "code",
   "execution_count": 8,
   "outputs": [],
   "source": [
    "baseline_path = os.path.join(work_dir, 'output', 'HGVS_2020_big_baseline_scores.tsv')\n",
    "baseline[['# ID','Score']].to_csv(baseline_path,sep='\\t',index=None)\n"
   ],
   "metadata": {
    "collapsed": false,
    "pycharm": {
     "name": "#%%\n"
    }
   }
  },
  {
   "cell_type": "code",
   "execution_count": 9,
   "outputs": [
    {
     "data": {
      "text/plain": "(                         # ID  Score\n 0  NC_000005.10:g.43702652T>G  0.992\n 1  NC_000008.11:g.24394146T>C  0.003\n 2   NC_000014.9:g.35007370A>G  0.997\n 3  NC_000023.11:g.48523912G>T  0.995\n 4  NC_000007.14:g.92086295A>G  0.944,\n                          # ID  Score\n 0  NC_000005.10:g.43702652T>G   0.00\n 1  NC_000008.11:g.24394146T>C   0.19\n 2   NC_000014.9:g.35007370A>G   0.00\n 3  NC_000023.11:g.48523912G>T   0.00\n 4  NC_000007.14:g.92086295A>G   0.16,\n                           # ID       Label\n 0   NC_000016.10:g.89748658C>T  Pathogenic\n 1  NC_000008.11:g.143818378G>A  Pathogenic\n 2   NC_000023.11:g.32644238T>A      Benign\n 3   NC_000002.12:g.39022779A>G  Pathogenic\n 4  NC_000001.11:g.154926384G>A  Pathogenic,\n                          # ID       Label\n 0  NC_000005.10:g.43702652T>G  Pathogenic\n 1  NC_000008.11:g.24394146T>C      Benign\n 2   NC_000014.9:g.35007370A>G  Pathogenic\n 3  NC_000023.11:g.48523912G>T  Pathogenic\n 4  NC_000007.14:g.92086295A>G      Benign)"
     },
     "execution_count": 9,
     "metadata": {},
     "output_type": "execute_result"
    }
   ],
   "source": [
    "polyphen_path = os.path.join(work_dir, 'data', 'vep', 'HGVS_2020_big_polyphen_scores.tsv')\n",
    "sift_path = os.path.join(work_dir, 'data', 'vep', 'HGVS_2020_big_sift_scores.tsv')\n",
    "benchmark_path = os.path.join(work_dir, 'data', 'HGVS_2020_big_benchmark.tsv')\n",
    "\n",
    "polyphen = pd.read_csv(polyphen_path,sep='\\t')\n",
    "sift = pd.read_csv(sift_path,sep='\\t')\n",
    "benchmark_big = pd.read_csv(benchmark_path,sep='\\t')\n",
    "benchmark_small = benchmark_big.set_index('# ID').loc[sift['# ID']].reset_index()\n",
    "polyphen.head(),sift.head(),benchmark_big.head(),benchmark_small.head()"
   ],
   "metadata": {
    "collapsed": false,
    "pycharm": {
     "name": "#%%\n"
    }
   }
  },
  {
   "cell_type": "code",
   "execution_count": 10,
   "outputs": [
    {
     "data": {
      "text/plain": "(array([0.        , 0.00333333, 0.03833333, 0.19333333, 0.32833333,\n        0.51666667, 0.77      , 1.        ]),\n array([0.        , 0.05833333, 0.135     , 0.39      , 0.61666667,\n        0.79      , 0.89666667, 1.        ]),\n array([ 4,  3,  2,  1,  0, -1, -2, -3], dtype=int64))"
     },
     "execution_count": 10,
     "metadata": {},
     "output_type": "execute_result"
    }
   ],
   "source": [
    "fpr_baseline, tpr_baseline, threshold_baseline = \\\n",
    "    metrics.roc_curve(benchmark_small['Label'],baseline['Score'], pos_label ='Benign')\n",
    "fpr_polyphen, tpr_polyphen, threshold_polyphen = \\\n",
    "    metrics.roc_curve(benchmark_small['Label'],1-polyphen['Score'],pos_label ='Benign')\n",
    "fpr_sift, tpr_sift, threshold_sift = \\\n",
    "    metrics.roc_curve(benchmark_small['Label'],sift['Score'],pos_label ='Benign')\n",
    "\n",
    "fpr_baseline, tpr_baseline, threshold_baseline"
   ],
   "metadata": {
    "collapsed": false,
    "pycharm": {
     "name": "#%%\n"
    }
   }
  },
  {
   "cell_type": "code",
   "execution_count": 11,
   "outputs": [
    {
     "data": {
      "text/plain": "(0.6763402777777777, 0.8857999999999999, 0.8601041666666667)"
     },
     "execution_count": 11,
     "metadata": {},
     "output_type": "execute_result"
    }
   ],
   "source": [
    "roc_auc_baseline = metrics.auc(fpr_baseline, tpr_baseline)\n",
    "roc_auc_polyphen = metrics.auc(fpr_polyphen, tpr_polyphen)\n",
    "roc_auc_sift = metrics.auc(fpr_sift, tpr_sift)\n",
    "\n",
    "roc_auc_baseline, roc_auc_polyphen, roc_auc_sift"
   ],
   "metadata": {
    "collapsed": false,
    "pycharm": {
     "name": "#%%\n"
    }
   }
  },
  {
   "cell_type": "code",
   "execution_count": 12,
   "outputs": [],
   "source": [
    "baseline_auc_tsv_path = os.path.join(work_dir, 'output', 'ROCplot_HGVS_2020_big_baseline_xy.tsv')\n",
    "polyphen_auc_tsv_path = os.path.join(work_dir, 'output', 'ROCplot_HGVS_2020_big_polyphen_xy.tsv')\n",
    "sift_auc_tsv_path = os.path.join(work_dir, 'output', 'ROCplot_HGVS_2020_big_sift_xy.tsv')"
   ],
   "metadata": {
    "collapsed": false,
    "pycharm": {
     "name": "#%%\n"
    }
   }
  },
  {
   "cell_type": "code",
   "execution_count": 13,
   "outputs": [],
   "source": [
    "pd.DataFrame(fpr_baseline,tpr_baseline).to_csv(baseline_auc_tsv_path, sep='\\t',header=None)\n",
    "pd.DataFrame(fpr_polyphen,tpr_polyphen).to_csv(polyphen_auc_tsv_path, sep='\\t',header=None)\n",
    "pd.DataFrame(fpr_sift,tpr_sift).to_csv(sift_auc_tsv_path, sep='\\t',header=None)"
   ],
   "metadata": {
    "collapsed": false,
    "pycharm": {
     "name": "#%%\n"
    }
   }
  },
  {
   "cell_type": "code",
   "execution_count": 14,
   "outputs": [
    {
     "name": "stderr",
     "output_type": "stream",
     "text": [
      "C:\\Users\\radia\\AppData\\Local\\Temp/ipykernel_17028/613003948.py:15: UserWarning: Matplotlib is currently using module://matplotlib_inline.backend_inline, which is a non-GUI backend, so cannot show the figure.\n",
      "  fig.show()\n"
     ]
    },
    {
     "data": {
      "text/plain": "<Figure size 432x288 with 1 Axes>",
      "image/png": "[encoded data removed]"
     },
     "metadata": {
      "needs_background": "light"
     },
     "output_type": "display_data"
    }
   ],
   "source": [
    "final_fig_path = os.path.join(work_dir, 'output', 'ROCplot_comparison.png')\n",
    "\n",
    "fig, axes = plt.subplots(1, 1)\n",
    "axes.plot(fpr_baseline, tpr_baseline, c='g', label='Baseline (AUC= {:.3f})'.format(roc_auc_baseline))\n",
    "axes.plot(fpr_polyphen, tpr_polyphen, c='r', label='PolyPhen 2 (AUC= {:.3f})'.format(roc_auc_polyphen))\n",
    "axes.plot(fpr_sift, tpr_sift, c='m', label='SIFT (AUC= {:.3f})'.format(roc_auc_sift))\n",
    "axes.plot((0, 1), (0, 1), color='navy', lw=1, linestyle='--', label='Random')\n",
    "axes.set_xlim([-0.008, 1.008])\n",
    "axes.set_ylim([-0.008, 1.008])\n",
    "axes.legend()\n",
    "axes.set_title('ROC curves comparison for different models')\n",
    "axes.set_xlabel('False Positive Rate')\n",
    "axes.set_ylabel('True Positive Rate')\n",
    "plt.savefig(final_fig_path)\n",
    "fig.show()"
   ],
   "metadata": {
    "collapsed": false,
    "pycharm": {
     "name": "#%%\n"
    }
   }
  }
 ],
 "metadata": {
  "kernelspec": {
   "name": "pycharm-33b340f3",
   "language": "python",
   "display_name": "PyCharm (FoB2021Project_3h)"
  },
  "language_info": {
   "codemirror_mode": {
    "name": "ipython",
    "version": 2
   },
   "file_extension": ".py",
   "mimetype": "text/x-python",
   "name": "python",
   "nbconvert_exporter": "python",
   "pygments_lexer": "ipython2",
   "version": "2.7.6"
  }
 },
 "nbformat": 4,
 "nbformat_minor": 0
}